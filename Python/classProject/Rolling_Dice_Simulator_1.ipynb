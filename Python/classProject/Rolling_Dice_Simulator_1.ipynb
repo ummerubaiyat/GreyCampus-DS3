{
 "cells": [
  {
   "cell_type": "code",
   "execution_count": 1,
   "metadata": {},
   "outputs": [],
   "source": [
    "import random"
   ]
  },
  {
   "cell_type": "code",
   "execution_count": 2,
   "metadata": {},
   "outputs": [],
   "source": [
    "def roll(sides=6):\n",
    "    num_rolled= random.randint(1,sides)\n",
    "    return num_rolled"
   ]
  },
  {
   "cell_type": "code",
   "execution_count": 3,
   "metadata": {},
   "outputs": [],
   "source": [
    "def main():\n",
    "    sides=6\n",
    "    rolling=6\n",
    "    while rolling:\n",
    "        roll_again=input(\"Ready to roll? ENTER=Roll. Q=Quit\")\n",
    "        if roll_again.lower() !=\"q\":\n",
    "            num_rolled=roll(sides)\n",
    "            print(\"You rolled a\",num_rolled)\n",
    "            \n",
    "        else:\n",
    "            rolling= False\n",
    "                \n",
    "    print(\"Thanks for playing.\")"
   ]
  },
  {
   "cell_type": "code",
   "execution_count": null,
   "metadata": {},
   "outputs": [
    {
     "name": "stdout",
     "output_type": "stream",
     "text": [
      "Ready to roll? ENTER=Roll. Q=Quit\n",
      "You rolled a 5\n",
      "Ready to roll? ENTER=Roll. Q=Quit\n",
      "You rolled a 4\n"
     ]
    }
   ],
   "source": [
    "main()"
   ]
  },
  {
   "cell_type": "code",
   "execution_count": null,
   "metadata": {},
   "outputs": [],
   "source": [
    "#random.randint(): This function generates a random number in the given range."
   ]
  },
  {
   "cell_type": "code",
   "execution_count": null,
   "metadata": {},
   "outputs": [],
   "source": []
  }
 ],
 "metadata": {
  "kernelspec": {
   "display_name": "Python 3",
   "language": "python",
   "name": "python3"
  },
  "language_info": {
   "codemirror_mode": {
    "name": "ipython",
    "version": 3
   },
   "file_extension": ".py",
   "mimetype": "text/x-python",
   "name": "python",
   "nbconvert_exporter": "python",
   "pygments_lexer": "ipython3",
   "version": "3.7.4"
  }
 },
 "nbformat": 4,
 "nbformat_minor": 2
}
