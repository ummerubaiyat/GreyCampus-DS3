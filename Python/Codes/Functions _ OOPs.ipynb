{
 "cells": [
  {
   "cell_type": "code",
   "execution_count": 1,
   "metadata": {},
   "outputs": [
    {
     "data": {
      "text/plain": [
       "['Jogesh', 'Mithun', 'Zelo', 'Kohli']"
      ]
     },
     "execution_count": 1,
     "metadata": {},
     "output_type": "execute_result"
    }
   ],
   "source": [
    "name = [\"Jogesh\", \"Mithun\", \"Zelo\", \"Kohli\"]\n",
    "name"
   ]
  },
  {
   "cell_type": "code",
   "execution_count": 2,
   "metadata": {},
   "outputs": [
    {
     "data": {
      "text/plain": [
       "[18, 25, 17, 16]"
      ]
     },
     "execution_count": 2,
     "metadata": {},
     "output_type": "execute_result"
    }
   ],
   "source": [
    "age = [18, 25, 17, 16]\n",
    "age"
   ]
  },
  {
   "cell_type": "code",
   "execution_count": 3,
   "metadata": {},
   "outputs": [
    {
     "data": {
      "text/plain": [
       "['Finland', 'New Zealand', 'India', 'Finland']"
      ]
     },
     "execution_count": 3,
     "metadata": {},
     "output_type": "execute_result"
    }
   ],
   "source": [
    "country = [\"Finland\", \"New Zealand\", \"India\", \"Finland\"]\n",
    "country"
   ]
  },
  {
   "cell_type": "code",
   "execution_count": 5,
   "metadata": {},
   "outputs": [],
   "source": [
    "def students(age, country):\n",
    "    for i in age:\n",
    "        if i > 18:\n",
    "            print(i)\n",
    "    for i in country:\n",
    "        if i == \"Finland\":\n",
    "            print(i)"
   ]
  },
  {
   "cell_type": "code",
   "execution_count": 6,
   "metadata": {},
   "outputs": [
    {
     "name": "stdout",
     "output_type": "stream",
     "text": [
      "25\n",
      "Finland\n",
      "Finland\n"
     ]
    }
   ],
   "source": [
    "students(age, country)"
   ]
  },
  {
   "cell_type": "code",
   "execution_count": 7,
   "metadata": {},
   "outputs": [],
   "source": [
    "def adder(x, y):\n",
    "    return x + y"
   ]
  },
  {
   "cell_type": "code",
   "execution_count": 8,
   "metadata": {},
   "outputs": [
    {
     "data": {
      "text/plain": [
       "30"
      ]
     },
     "execution_count": 8,
     "metadata": {},
     "output_type": "execute_result"
    }
   ],
   "source": [
    "adder(10,20)"
   ]
  },
  {
   "cell_type": "markdown",
   "metadata": {},
   "source": [
    "# Functions without Arguments"
   ]
  },
  {
   "cell_type": "code",
   "execution_count": 14,
   "metadata": {},
   "outputs": [
    {
     "name": "stdout",
     "output_type": "stream",
     "text": [
      "Python Programming -- Java\n"
     ]
    }
   ],
   "source": [
    "# Shift + Tab\n",
    "print(\"Python Programming\", end = \" -- \")\n",
    "print(\"Java\")"
   ]
  },
  {
   "cell_type": "code",
   "execution_count": 11,
   "metadata": {},
   "outputs": [
    {
     "ename": "TypeError",
     "evalue": "adder() missing 2 required positional arguments: 'x' and 'y'",
     "output_type": "error",
     "traceback": [
      "\u001b[1;31m---------------------------------------------------------------------------\u001b[0m",
      "\u001b[1;31mTypeError\u001b[0m                                 Traceback (most recent call last)",
      "\u001b[1;32m<ipython-input-11-c77a1899483b>\u001b[0m in \u001b[0;36m<module>\u001b[1;34m\u001b[0m\n\u001b[1;32m----> 1\u001b[1;33m \u001b[0madder\u001b[0m\u001b[1;33m(\u001b[0m\u001b[1;33m)\u001b[0m\u001b[1;33m\u001b[0m\u001b[1;33m\u001b[0m\u001b[0m\n\u001b[0m",
      "\u001b[1;31mTypeError\u001b[0m: adder() missing 2 required positional arguments: 'x' and 'y'"
     ]
    }
   ],
   "source": [
    "adder()"
   ]
  },
  {
   "cell_type": "code",
   "execution_count": 15,
   "metadata": {},
   "outputs": [],
   "source": [
    "def greeting():\n",
    "    return f\"Welcome to Python Programming\""
   ]
  },
  {
   "cell_type": "code",
   "execution_count": 16,
   "metadata": {},
   "outputs": [
    {
     "data": {
      "text/plain": [
       "'Welcome to Python Programming'"
      ]
     },
     "execution_count": 16,
     "metadata": {},
     "output_type": "execute_result"
    }
   ],
   "source": [
    "greeting()"
   ]
  },
  {
   "cell_type": "code",
   "execution_count": 18,
   "metadata": {},
   "outputs": [
    {
     "data": {
      "text/plain": [
       "3.141592653589793"
      ]
     },
     "execution_count": 18,
     "metadata": {},
     "output_type": "execute_result"
    }
   ],
   "source": [
    "import math\n",
    "math.pi"
   ]
  },
  {
   "cell_type": "code",
   "execution_count": 17,
   "metadata": {},
   "outputs": [
    {
     "data": {
      "text/plain": [
       "'Welcome to Python Programming'"
      ]
     },
     "execution_count": 17,
     "metadata": {},
     "output_type": "execute_result"
    }
   ],
   "source": [
    "greeting()"
   ]
  },
  {
   "cell_type": "markdown",
   "metadata": {},
   "source": [
    "# Functions with Arguments"
   ]
  },
  {
   "cell_type": "code",
   "execution_count": 19,
   "metadata": {},
   "outputs": [],
   "source": [
    "def greeting(name):\n",
    "    return f'Welcome to Python Programming {name}'"
   ]
  },
  {
   "cell_type": "code",
   "execution_count": 20,
   "metadata": {},
   "outputs": [
    {
     "data": {
      "text/plain": [
       "'Welcome to Python Programming Bezos'"
      ]
     },
     "execution_count": 20,
     "metadata": {},
     "output_type": "execute_result"
    }
   ],
   "source": [
    "greeting(\"Bezos\")"
   ]
  },
  {
   "cell_type": "code",
   "execution_count": 23,
   "metadata": {},
   "outputs": [
    {
     "data": {
      "text/plain": [
       "['Jogesh', 'Mithun', 'Zelo', 'Kohli']"
      ]
     },
     "execution_count": 23,
     "metadata": {},
     "output_type": "execute_result"
    }
   ],
   "source": [
    "name"
   ]
  },
  {
   "cell_type": "code",
   "execution_count": 24,
   "metadata": {},
   "outputs": [
    {
     "name": "stdout",
     "output_type": "stream",
     "text": [
      "Welcome to Python Programming Jogesh\n",
      "Welcome to Python Programming Mithun\n",
      "Welcome to Python Programming Zelo\n",
      "Welcome to Python Programming Kohli\n"
     ]
    }
   ],
   "source": [
    "for i in name:\n",
    "    print(greeting(i))"
   ]
  },
  {
   "cell_type": "code",
   "execution_count": 26,
   "metadata": {},
   "outputs": [],
   "source": [
    "def calculator():\n",
    "    ops = int(input(\"Addition = 1 | Subtraction = 2 | Multiplication = 3 | Division = 4\"))\n",
    "    x = eval(input('Please enter a Number for X: '))\n",
    "    y = eval(input('Please enter a Number for Y: '))\n",
    "    \n",
    "    if ops == 1:\n",
    "        return f'Addition of {x} and {y} is {x + y}'\n",
    "    elif ops == 2:\n",
    "        return f'Subtraction of {x} and {y} is {x - y}'\n",
    "    elif ops == 3:\n",
    "        return f'Multiplication of {x} and {y} is {x * y}'\n",
    "    else:\n",
    "        return f'Division of {x} and {y} is {x / y}'"
   ]
  },
  {
   "cell_type": "code",
   "execution_count": 30,
   "metadata": {},
   "outputs": [
    {
     "name": "stdout",
     "output_type": "stream",
     "text": [
      "Addition = 1 | Subtraction = 2 | Multiplication = 3 | Division = 44\n",
      "Please enter a Number for X: 100\n",
      "Please enter a Number for Y: 25\n"
     ]
    },
    {
     "data": {
      "text/plain": [
       "'Division of 100 and 25 is 4.0'"
      ]
     },
     "execution_count": 30,
     "metadata": {},
     "output_type": "execute_result"
    }
   ],
   "source": [
    "calculator()"
   ]
  },
  {
   "cell_type": "code",
   "execution_count": 31,
   "metadata": {},
   "outputs": [
    {
     "name": "stdout",
     "output_type": "stream",
     "text": [
      "Please enter a Number for X: 120\n",
      "Please enter a Number for Y: 124\n"
     ]
    }
   ],
   "source": [
    "x = eval(input('Please enter a Number for X: '))\n",
    "y = eval(input('Please enter a Number for Y: '))\n",
    "\n",
    "def calculator(x,y):\n",
    "\n",
    "    ops = int(input(\"Addition = 1 | Subtraction = 2 | Multiplication = 3 | Division = 4\"))\n",
    "    \n",
    "    if ops == 1:\n",
    "        return f'Addition of {x} and {y} is {x + y}'\n",
    "    elif ops == 2:\n",
    "        return f'Subtraction of {x} and {y} is {x - y}'\n",
    "    elif ops == 3:\n",
    "        return f'Multiplication of {x} and {y} is {x * y}'\n",
    "    else:\n",
    "        return f'Division of {x} and {y} is {x / y}'"
   ]
  },
  {
   "cell_type": "code",
   "execution_count": 32,
   "metadata": {},
   "outputs": [
    {
     "name": "stdout",
     "output_type": "stream",
     "text": [
      "Addition = 1 | Subtraction = 2 | Multiplication = 3 | Division = 41\n"
     ]
    },
    {
     "data": {
      "text/plain": [
       "'Addition of 120 and 124 is 244'"
      ]
     },
     "execution_count": 32,
     "metadata": {},
     "output_type": "execute_result"
    }
   ],
   "source": [
    "calculator(x,y)"
   ]
  },
  {
   "cell_type": "markdown",
   "metadata": {},
   "source": [
    "# Functions with Multiple Arguments"
   ]
  },
  {
   "cell_type": "code",
   "execution_count": 34,
   "metadata": {},
   "outputs": [],
   "source": [
    "def greeting(*names):\n",
    "    for i in names:\n",
    "        print('Welcome to the Disneyland', i)"
   ]
  },
  {
   "cell_type": "code",
   "execution_count": 40,
   "metadata": {},
   "outputs": [],
   "source": [
    "import random\n",
    "import string\n",
    "name = [string.ascii_uppercase[i] for i in range(10)]"
   ]
  },
  {
   "cell_type": "code",
   "execution_count": 41,
   "metadata": {},
   "outputs": [
    {
     "data": {
      "text/plain": [
       "['A', 'B', 'C', 'D', 'E', 'F', 'G', 'H', 'I', 'J']"
      ]
     },
     "execution_count": 41,
     "metadata": {},
     "output_type": "execute_result"
    }
   ],
   "source": [
    "name"
   ]
  },
  {
   "cell_type": "code",
   "execution_count": 43,
   "metadata": {},
   "outputs": [
    {
     "name": "stdout",
     "output_type": "stream",
     "text": [
      "Welcome to the Disneyland A\n",
      "Welcome to the Disneyland B\n",
      "Welcome to the Disneyland C\n",
      "Welcome to the Disneyland D\n",
      "Welcome to the Disneyland E\n",
      "Welcome to the Disneyland F\n",
      "Welcome to the Disneyland G\n",
      "Welcome to the Disneyland H\n",
      "Welcome to the Disneyland I\n",
      "Welcome to the Disneyland J\n"
     ]
    }
   ],
   "source": [
    "greeting('A', 'B', 'C', 'D', 'E', 'F', 'G', 'H', 'I', 'J')"
   ]
  },
  {
   "cell_type": "code",
   "execution_count": 44,
   "metadata": {},
   "outputs": [],
   "source": [
    "def addition(*nums):\n",
    "    a = 0\n",
    "    for i in nums:\n",
    "        a += i\n",
    "    return a"
   ]
  },
  {
   "cell_type": "code",
   "execution_count": 46,
   "metadata": {},
   "outputs": [
    {
     "data": {
      "text/plain": [
       "602"
      ]
     },
     "execution_count": 46,
     "metadata": {},
     "output_type": "execute_result"
    }
   ],
   "source": [
    "addition(42, 92, 15, 46, 96, 49, 88, 100, 57, 17)"
   ]
  },
  {
   "cell_type": "markdown",
   "metadata": {},
   "source": [
    "# Functions with Multiple Keyword Arguments"
   ]
  },
  {
   "cell_type": "code",
   "execution_count": 47,
   "metadata": {},
   "outputs": [],
   "source": [
    "def welcome(name, bold = True):\n",
    "    if bold:\n",
    "        return f'Welcome to Greycampus, {name.capitalize()}'\n",
    "    else:\n",
    "        return f'Welcome to Greycampus, {name.lower()}'"
   ]
  },
  {
   "cell_type": "code",
   "execution_count": 48,
   "metadata": {},
   "outputs": [
    {
     "data": {
      "text/plain": [
       "'Welcome to Greycampus, Jogesh'"
      ]
     },
     "execution_count": 48,
     "metadata": {},
     "output_type": "execute_result"
    }
   ],
   "source": [
    "welcome(\"jogesh\")"
   ]
  },
  {
   "cell_type": "code",
   "execution_count": 49,
   "metadata": {},
   "outputs": [
    {
     "data": {
      "text/plain": [
       "'Welcome to Greycampus, meneno'"
      ]
     },
     "execution_count": 49,
     "metadata": {},
     "output_type": "execute_result"
    }
   ],
   "source": [
    "welcome(\"Meneno\", bold = False)"
   ]
  },
  {
   "cell_type": "code",
   "execution_count": 51,
   "metadata": {},
   "outputs": [],
   "source": [
    "def employee_info(**info):\n",
    "    return f\"{info['Name']} is working at {info['Company']} with {info['Exp']} years of Experience\""
   ]
  },
  {
   "cell_type": "code",
   "execution_count": 52,
   "metadata": {},
   "outputs": [
    {
     "data": {
      "text/plain": [
       "'Prakash is working at Google with 10 years of Experience'"
      ]
     },
     "execution_count": 52,
     "metadata": {},
     "output_type": "execute_result"
    }
   ],
   "source": [
    "employee_info(Name = \"Prakash\", Company =\"Google\", Exp = 10)"
   ]
  },
  {
   "cell_type": "code",
   "execution_count": 53,
   "metadata": {},
   "outputs": [
    {
     "ename": "KeyError",
     "evalue": "'Company'",
     "output_type": "error",
     "traceback": [
      "\u001b[1;31m---------------------------------------------------------------------------\u001b[0m",
      "\u001b[1;31mKeyError\u001b[0m                                  Traceback (most recent call last)",
      "\u001b[1;32m<ipython-input-53-b25fa3b8ddfd>\u001b[0m in \u001b[0;36m<module>\u001b[1;34m\u001b[0m\n\u001b[1;32m----> 1\u001b[1;33m \u001b[0memployee_info\u001b[0m\u001b[1;33m(\u001b[0m\u001b[0mName\u001b[0m \u001b[1;33m=\u001b[0m \u001b[1;34m\"Prakash\"\u001b[0m\u001b[1;33m,\u001b[0m \u001b[0mExp\u001b[0m \u001b[1;33m=\u001b[0m \u001b[1;36m10\u001b[0m\u001b[1;33m)\u001b[0m\u001b[1;33m\u001b[0m\u001b[1;33m\u001b[0m\u001b[0m\n\u001b[0m",
      "\u001b[1;32m<ipython-input-51-84d6f291c34b>\u001b[0m in \u001b[0;36memployee_info\u001b[1;34m(**info)\u001b[0m\n\u001b[0;32m      1\u001b[0m \u001b[1;32mdef\u001b[0m \u001b[0memployee_info\u001b[0m\u001b[1;33m(\u001b[0m\u001b[1;33m**\u001b[0m\u001b[0minfo\u001b[0m\u001b[1;33m)\u001b[0m\u001b[1;33m:\u001b[0m\u001b[1;33m\u001b[0m\u001b[1;33m\u001b[0m\u001b[0m\n\u001b[1;32m----> 2\u001b[1;33m     \u001b[1;32mreturn\u001b[0m \u001b[1;34mf\"{info['Name']} is working at {info['Company']} with {info['Exp']} years of Experience\"\u001b[0m\u001b[1;33m\u001b[0m\u001b[1;33m\u001b[0m\u001b[0m\n\u001b[0m",
      "\u001b[1;31mKeyError\u001b[0m: 'Company'"
     ]
    }
   ],
   "source": [
    "employee_info(Name = \"Prakash\", Exp = 10)"
   ]
  },
  {
   "cell_type": "code",
   "execution_count": 54,
   "metadata": {},
   "outputs": [
    {
     "data": {
      "text/plain": [
       "'Prakash is working at Google with 10 years of Experience'"
      ]
     },
     "execution_count": 54,
     "metadata": {},
     "output_type": "execute_result"
    }
   ],
   "source": [
    "employee_info(Name = \"Prakash\", Company =\"Google\", Exp = 10, Age = 45, Ed = \"Masters\")"
   ]
  },
  {
   "cell_type": "markdown",
   "metadata": {},
   "source": [
    "# Scope of a Function"
   ]
  },
  {
   "cell_type": "code",
   "execution_count": 55,
   "metadata": {},
   "outputs": [],
   "source": [
    "a = \"Meneno\"\n",
    "\n",
    "def greeting():\n",
    "    return f'Welcome to GreyCampus {a}'"
   ]
  },
  {
   "cell_type": "code",
   "execution_count": 57,
   "metadata": {},
   "outputs": [
    {
     "data": {
      "text/plain": [
       "'Welcome to GreyCampus Meneno'"
      ]
     },
     "execution_count": 57,
     "metadata": {},
     "output_type": "execute_result"
    }
   ],
   "source": [
    "greeting()"
   ]
  },
  {
   "cell_type": "code",
   "execution_count": 59,
   "metadata": {},
   "outputs": [],
   "source": [
    "def greeting():\n",
    "    m = \"Meneno\"\n",
    "    return f'Welcome to Python Programming {m}'"
   ]
  },
  {
   "cell_type": "code",
   "execution_count": 60,
   "metadata": {},
   "outputs": [
    {
     "data": {
      "text/plain": [
       "'Welcome to Python Programming Meneno'"
      ]
     },
     "execution_count": 60,
     "metadata": {},
     "output_type": "execute_result"
    }
   ],
   "source": [
    "greeting()"
   ]
  },
  {
   "cell_type": "code",
   "execution_count": 61,
   "metadata": {},
   "outputs": [
    {
     "ename": "NameError",
     "evalue": "name 'm' is not defined",
     "output_type": "error",
     "traceback": [
      "\u001b[1;31m---------------------------------------------------------------------------\u001b[0m",
      "\u001b[1;31mNameError\u001b[0m                                 Traceback (most recent call last)",
      "\u001b[1;32m<ipython-input-61-9a40b379906c>\u001b[0m in \u001b[0;36m<module>\u001b[1;34m\u001b[0m\n\u001b[1;32m----> 1\u001b[1;33m \u001b[0mm\u001b[0m\u001b[1;33m\u001b[0m\u001b[1;33m\u001b[0m\u001b[0m\n\u001b[0m",
      "\u001b[1;31mNameError\u001b[0m: name 'm' is not defined"
     ]
    }
   ],
   "source": [
    "m"
   ]
  },
  {
   "cell_type": "code",
   "execution_count": 62,
   "metadata": {},
   "outputs": [],
   "source": [
    "def greeting():\n",
    "    global m\n",
    "    m = \"Meneno\"\n",
    "    return f'Welcome to Python Programming {m}'"
   ]
  },
  {
   "cell_type": "code",
   "execution_count": 63,
   "metadata": {},
   "outputs": [
    {
     "data": {
      "text/plain": [
       "'Welcome to Python Programming Meneno'"
      ]
     },
     "execution_count": 63,
     "metadata": {},
     "output_type": "execute_result"
    }
   ],
   "source": [
    "greeting()"
   ]
  },
  {
   "cell_type": "code",
   "execution_count": 64,
   "metadata": {},
   "outputs": [
    {
     "data": {
      "text/plain": [
       "'Meneno'"
      ]
     },
     "execution_count": 64,
     "metadata": {},
     "output_type": "execute_result"
    }
   ],
   "source": [
    "m"
   ]
  },
  {
   "cell_type": "markdown",
   "metadata": {},
   "source": [
    "# Classes"
   ]
  },
  {
   "cell_type": "markdown",
   "metadata": {},
   "source": [
    "<img src =https://s3.envato.com/files/241356037/house-img.JPG width=600>"
   ]
  },
  {
   "cell_type": "markdown",
   "metadata": {},
   "source": [
    "# Objects"
   ]
  },
  {
   "cell_type": "markdown",
   "metadata": {},
   "source": [
    "<img src = https://www.rocketmortgage.com/resources-cmsassets/RocketMortgage.com/Article_Images/Large_Images/TypesOfHomes/types-of-homes-hero.jpg width = 500>"
   ]
  },
  {
   "cell_type": "markdown",
   "metadata": {},
   "source": [
    "# Classes & Objects"
   ]
  },
  {
   "cell_type": "code",
   "execution_count": 69,
   "metadata": {},
   "outputs": [],
   "source": [
    "class employee:\n",
    "    \n",
    "    com = \"GreyCampus\"\n",
    "    \n",
    "    def greeting(self):\n",
    "        return 'Welcome to Python Programming'"
   ]
  },
  {
   "cell_type": "code",
   "execution_count": 70,
   "metadata": {},
   "outputs": [
    {
     "name": "stdout",
     "output_type": "stream",
     "text": [
      "Company of the Employee is GreyCampus\n",
      "Greeting from the Company\n",
      " Welcome to Python Programming\n"
     ]
    }
   ],
   "source": [
    "# Instances\n",
    "\n",
    "emp = employee()\n",
    "\n",
    "print('Company of the Employee is', emp.com)\n",
    "print('Greeting from the Company\\n', emp.greeting())"
   ]
  },
  {
   "cell_type": "code",
   "execution_count": 76,
   "metadata": {},
   "outputs": [],
   "source": [
    "class students:\n",
    "    \n",
    "    s1 = \"Meneno\"\n",
    "    s2 = \"Jogesh\"\n",
    "    s3 = \"Mark\"\n",
    "    \n",
    "    def greeting(self):\n",
    "        return 'Welcome to Python Programming'\n",
    "        \n",
    "    def calculator(self):\n",
    "        x = eval(input('Please enter X: '))\n",
    "        y = eval(input('Please enter Y: '))\n",
    "        \n",
    "        ops = int(input(\"1.Add | 2.Sub | 3.Mul | 4. Div | 5.Pow\"))\n",
    "        \n",
    "        if ops == 1:\n",
    "            return f'Addition of {x} and {y} is {x + y}'\n",
    "        elif ops == 2:\n",
    "            return f'Subtraction of {x} and {y} is {x - y}'\n",
    "        elif ops == 3:\n",
    "            return f'Multiplication of {x} and {y} is {x * y}'\n",
    "        elif ops == 4:\n",
    "            return f'Division of {x} and {y} is {x / y}'\n",
    "        else:\n",
    "            return f'Power of {x} and {y} is {x ** y}'"
   ]
  },
  {
   "cell_type": "code",
   "execution_count": 77,
   "metadata": {},
   "outputs": [
    {
     "name": "stdout",
     "output_type": "stream",
     "text": [
      "Name of the First Student is Meneno\n",
      "Name of the Second Student is Jogesh\n",
      "Name of the Third Student is Mark \n",
      "\n",
      "Welcome to Python Programming\n",
      "Please enter X: 15\n",
      "Please enter Y: 12\n",
      "1.Add | 2.Sub | 3.Mul | 4. Div | 5.Pow4\n",
      "Division of 15 and 12 is 1.25\n"
     ]
    }
   ],
   "source": [
    "stu = students()\n",
    "\n",
    "print('Name of the First Student is', stu.s1)\n",
    "print('Name of the Second Student is', stu.s2)\n",
    "print('Name of the Third Student is', stu.s3, '\\n')\n",
    "\n",
    "print(stu.greeting())\n",
    "print(stu.calculator())"
   ]
  },
  {
   "cell_type": "markdown",
   "metadata": {},
   "source": [
    "# The Self Method"
   ]
  },
  {
   "cell_type": "code",
   "execution_count": 84,
   "metadata": {},
   "outputs": [],
   "source": [
    "class employee:\n",
    "    \n",
    "    com = \"Apple Incorporations\"\n",
    "    \n",
    "    def greeting(self):\n",
    "        return 'Welcome to Python Programming'"
   ]
  },
  {
   "cell_type": "code",
   "execution_count": 85,
   "metadata": {},
   "outputs": [
    {
     "name": "stdout",
     "output_type": "stream",
     "text": [
      "Apple Incorporations\n"
     ]
    }
   ],
   "source": [
    "emp = employee()\n",
    "print(emp.com)"
   ]
  },
  {
   "cell_type": "code",
   "execution_count": 86,
   "metadata": {},
   "outputs": [
    {
     "data": {
      "text/plain": [
       "'Welcome to Python Programming'"
      ]
     },
     "execution_count": 86,
     "metadata": {},
     "output_type": "execute_result"
    }
   ],
   "source": [
    "emp.greeting()"
   ]
  },
  {
   "cell_type": "code",
   "execution_count": 88,
   "metadata": {},
   "outputs": [
    {
     "data": {
      "text/plain": [
       "'Apple Incorporations'"
      ]
     },
     "execution_count": 88,
     "metadata": {},
     "output_type": "execute_result"
    }
   ],
   "source": [
    "emp2 = employee()\n",
    "emp2.com"
   ]
  },
  {
   "cell_type": "code",
   "execution_count": 89,
   "metadata": {},
   "outputs": [
    {
     "data": {
      "text/plain": [
       "'Welcome to Python Programming'"
      ]
     },
     "execution_count": 89,
     "metadata": {},
     "output_type": "execute_result"
    }
   ],
   "source": [
    "emp2.greeting()"
   ]
  },
  {
   "cell_type": "markdown",
   "metadata": {},
   "source": [
    "# Contructors/Instantiators"
   ]
  },
  {
   "cell_type": "code",
   "execution_count": 90,
   "metadata": {},
   "outputs": [],
   "source": [
    "class employee:\n",
    "    \n",
    "    com = \"Greycampus\"\n",
    "    \n",
    "    def greeting(self):\n",
    "        return f'Welcome to Python Programming, {com}'"
   ]
  },
  {
   "cell_type": "code",
   "execution_count": 91,
   "metadata": {},
   "outputs": [
    {
     "ename": "NameError",
     "evalue": "name 'com' is not defined",
     "output_type": "error",
     "traceback": [
      "\u001b[1;31m---------------------------------------------------------------------------\u001b[0m",
      "\u001b[1;31mNameError\u001b[0m                                 Traceback (most recent call last)",
      "\u001b[1;32m<ipython-input-91-8def217d604b>\u001b[0m in \u001b[0;36m<module>\u001b[1;34m\u001b[0m\n\u001b[0;32m      1\u001b[0m \u001b[0memp\u001b[0m \u001b[1;33m=\u001b[0m \u001b[0memployee\u001b[0m\u001b[1;33m(\u001b[0m\u001b[1;33m)\u001b[0m\u001b[1;33m\u001b[0m\u001b[1;33m\u001b[0m\u001b[0m\n\u001b[1;32m----> 2\u001b[1;33m \u001b[0memp\u001b[0m\u001b[1;33m.\u001b[0m\u001b[0mgreeting\u001b[0m\u001b[1;33m(\u001b[0m\u001b[1;33m)\u001b[0m\u001b[1;33m\u001b[0m\u001b[1;33m\u001b[0m\u001b[0m\n\u001b[0m",
      "\u001b[1;32m<ipython-input-90-f67adb552eb5>\u001b[0m in \u001b[0;36mgreeting\u001b[1;34m(self)\u001b[0m\n\u001b[0;32m      4\u001b[0m \u001b[1;33m\u001b[0m\u001b[0m\n\u001b[0;32m      5\u001b[0m     \u001b[1;32mdef\u001b[0m \u001b[0mgreeting\u001b[0m\u001b[1;33m(\u001b[0m\u001b[0mself\u001b[0m\u001b[1;33m)\u001b[0m\u001b[1;33m:\u001b[0m\u001b[1;33m\u001b[0m\u001b[1;33m\u001b[0m\u001b[0m\n\u001b[1;32m----> 6\u001b[1;33m         \u001b[1;32mreturn\u001b[0m \u001b[1;34mf'Welcome to Python Programming, {com}'\u001b[0m\u001b[1;33m\u001b[0m\u001b[1;33m\u001b[0m\u001b[0m\n\u001b[0m",
      "\u001b[1;31mNameError\u001b[0m: name 'com' is not defined"
     ]
    }
   ],
   "source": [
    "emp = employee()\n",
    "emp.greeting()"
   ]
  },
  {
   "cell_type": "code",
   "execution_count": 92,
   "metadata": {},
   "outputs": [],
   "source": [
    "class employee:\n",
    "    \n",
    "    def __init__(self, name, age, gender):\n",
    "        self.name = name\n",
    "        self.age = age\n",
    "        self.gender = gender\n",
    "     \n",
    "    def welcome(self):\n",
    "        return f'{self.name} is a {self.gender} is working at the age of {self.age}'    "
   ]
  },
  {
   "cell_type": "code",
   "execution_count": 95,
   "metadata": {},
   "outputs": [
    {
     "name": "stdout",
     "output_type": "stream",
     "text": [
      "Name of the Employee Meneno\n",
      "Age of the Employee 28\n",
      "Gender of the Employee Male\n"
     ]
    },
    {
     "data": {
      "text/plain": [
       "'Meneno is a Male is working at the age of 28'"
      ]
     },
     "execution_count": 95,
     "metadata": {},
     "output_type": "execute_result"
    }
   ],
   "source": [
    "emp = employee(\"Meneno\", 28, \"Male\")\n",
    "print('Name of the Employee', emp.name)\n",
    "print('Age of the Employee', emp.age)\n",
    "print('Gender of the Employee', emp.gender)\n",
    "emp.welcome()"
   ]
  },
  {
   "cell_type": "markdown",
   "metadata": {},
   "source": [
    "# Inheritance"
   ]
  },
  {
   "cell_type": "code",
   "execution_count": 6,
   "metadata": {},
   "outputs": [],
   "source": [
    "class parent:\n",
    "    \n",
    "    def __init__(self, n, a, g):\n",
    "        self.name = n\n",
    "        self.age = a\n",
    "        self.gender = g\n",
    "        \n",
    "    def welcome(self):\n",
    "        return f'Welcome to Python Programming'\n",
    "    \n",
    "    def custom(self):\n",
    "        return f'{self.name} is a {self.gender}, who is working at the age of {self.age}'\n",
    "\n",
    "class child(parent):\n",
    "    pass"
   ]
  },
  {
   "cell_type": "code",
   "execution_count": 7,
   "metadata": {},
   "outputs": [
    {
     "name": "stdout",
     "output_type": "stream",
     "text": [
      "Virat\n",
      "28\n",
      "Male\n",
      "Welcome to Python Programming\n",
      "Virat is a Male, who is working at the age of 28\n"
     ]
    }
   ],
   "source": [
    "p = parent(\"Virat\", 28, \"Male\")\n",
    "print(p.name)\n",
    "print(p.age)\n",
    "print(p.gender)\n",
    "print(p.welcome())\n",
    "print(p.custom())"
   ]
  },
  {
   "cell_type": "code",
   "execution_count": 9,
   "metadata": {},
   "outputs": [
    {
     "name": "stdout",
     "output_type": "stream",
     "text": [
      "Meneno\n",
      "Male\n",
      "28\n",
      "Welcome to Python Programming\n",
      "Meneno is a Male, who is working at the age of 28\n"
     ]
    }
   ],
   "source": [
    "ch = child(\"Meneno\", 28, \"Male\")\n",
    "print(ch.name)\n",
    "print(ch.gender)\n",
    "print(ch.age)\n",
    "print(ch.welcome())\n",
    "print(ch.custom())"
   ]
  },
  {
   "cell_type": "markdown",
   "metadata": {},
   "source": [
    "# Polymorphism"
   ]
  },
  {
   "cell_type": "code",
   "execution_count": 17,
   "metadata": {},
   "outputs": [
    {
     "data": {
      "text/plain": [
       "6"
      ]
     },
     "execution_count": 17,
     "metadata": {},
     "output_type": "execute_result"
    }
   ],
   "source": [
    "len(\"Python\")"
   ]
  },
  {
   "cell_type": "code",
   "execution_count": 18,
   "metadata": {},
   "outputs": [
    {
     "data": {
      "text/plain": [
       "6"
      ]
     },
     "execution_count": 18,
     "metadata": {},
     "output_type": "execute_result"
    }
   ],
   "source": [
    "len([1,2,1,111,21, \"Python\"])"
   ]
  },
  {
   "cell_type": "code",
   "execution_count": 19,
   "metadata": {},
   "outputs": [
    {
     "data": {
      "text/plain": [
       "30"
      ]
     },
     "execution_count": 19,
     "metadata": {},
     "output_type": "execute_result"
    }
   ],
   "source": [
    "10 + 20"
   ]
  },
  {
   "cell_type": "code",
   "execution_count": 20,
   "metadata": {},
   "outputs": [
    {
     "data": {
      "text/plain": [
       "'Python Programming'"
      ]
     },
     "execution_count": 20,
     "metadata": {},
     "output_type": "execute_result"
    }
   ],
   "source": [
    "\"Python \" + \"Programming\""
   ]
  },
  {
   "cell_type": "code",
   "execution_count": 21,
   "metadata": {},
   "outputs": [],
   "source": [
    "class BMW:\n",
    "    \n",
    "    company = \"British Motors\"\n",
    "    \n",
    "    def greeting(self):\n",
    "        return 'Welcome to British Motors'"
   ]
  },
  {
   "cell_type": "code",
   "execution_count": 22,
   "metadata": {},
   "outputs": [],
   "source": [
    "class AUDI:\n",
    "    \n",
    "    company = \"Audi Motors Germany\"\n",
    "    \n",
    "    def greeting(self):\n",
    "        return 'Welcome to Audi Motors Germany'"
   ]
  },
  {
   "cell_type": "code",
   "execution_count": 23,
   "metadata": {},
   "outputs": [],
   "source": [
    "class TATA:\n",
    "    \n",
    "    company = \"Tata Motors Capital\"\n",
    "    \n",
    "    def greeting(self):\n",
    "        return 'Welcome to Tata Motors Capital'"
   ]
  },
  {
   "cell_type": "code",
   "execution_count": 24,
   "metadata": {},
   "outputs": [
    {
     "name": "stdout",
     "output_type": "stream",
     "text": [
      "Company: British Motors\n",
      "Greeting: Welcome to British Motors \n",
      "\n",
      "Company: Audi Motors Germany\n",
      "Greeting: Welcome to Audi Motors Germany \n",
      "\n",
      "Company: Tata Motors Capital\n",
      "Greeting: Welcome to Tata Motors Capital \n",
      "\n"
     ]
    }
   ],
   "source": [
    "bmw = BMW()\n",
    "audi = AUDI()\n",
    "tata = TATA()\n",
    "\n",
    "for i in (bmw, audi, tata):\n",
    "    print('Company:', i.company)\n",
    "    print('Greeting:', i.greeting(), '\\n')"
   ]
  },
  {
   "cell_type": "markdown",
   "metadata": {},
   "source": [
    "# Method Overriding"
   ]
  },
  {
   "cell_type": "code",
   "execution_count": 27,
   "metadata": {},
   "outputs": [],
   "source": [
    "class employee:\n",
    "    \n",
    "    def __init__(self, name, age, gender):\n",
    "        self.name = name\n",
    "        self.age = age\n",
    "        self.gender = gender\n",
    "    \n",
    "    def greeting(self):\n",
    "        return f'{self.name} is a {self.gender} working at the age of {self.age}'\n",
    "    \n",
    "class salary(employee):\n",
    "    \n",
    "    def greeting(self):\n",
    "        return \"Welcome to Python Programming\""
   ]
  },
  {
   "cell_type": "code",
   "execution_count": 30,
   "metadata": {},
   "outputs": [
    {
     "name": "stdout",
     "output_type": "stream",
     "text": [
      "Meneno\n",
      "28\n",
      "Male\n",
      "Meneno is a Male working at the age of 28\n"
     ]
    }
   ],
   "source": [
    "emp = employee(\"Meneno\", 28, \"Male\")\n",
    "print(emp.name)\n",
    "print(emp.age)\n",
    "print(emp.gender)\n",
    "print(emp.greeting())"
   ]
  },
  {
   "cell_type": "code",
   "execution_count": 29,
   "metadata": {},
   "outputs": [
    {
     "name": "stdout",
     "output_type": "stream",
     "text": [
      "Meneno\n",
      "28\n",
      "Male\n",
      "Welcome to Python Programming\n"
     ]
    }
   ],
   "source": [
    "sal = salary(\"Meneno\", 28, \"Male\")\n",
    "print(sal.name)\n",
    "print(sal.age)\n",
    "print(sal.gender)\n",
    "print(sal.greeting())"
   ]
  },
  {
   "cell_type": "code",
   "execution_count": null,
   "metadata": {},
   "outputs": [],
   "source": []
  },
  {
   "cell_type": "code",
   "execution_count": null,
   "metadata": {},
   "outputs": [],
   "source": []
  },
  {
   "cell_type": "code",
   "execution_count": null,
   "metadata": {},
   "outputs": [],
   "source": []
  },
  {
   "cell_type": "code",
   "execution_count": null,
   "metadata": {},
   "outputs": [],
   "source": []
  },
  {
   "cell_type": "code",
   "execution_count": null,
   "metadata": {},
   "outputs": [],
   "source": []
  },
  {
   "cell_type": "code",
   "execution_count": null,
   "metadata": {},
   "outputs": [],
   "source": []
  }
 ],
 "metadata": {
  "kernelspec": {
   "display_name": "Python 3",
   "language": "python",
   "name": "python3"
  },
  "language_info": {
   "codemirror_mode": {
    "name": "ipython",
    "version": 3
   },
   "file_extension": ".py",
   "mimetype": "text/x-python",
   "name": "python",
   "nbconvert_exporter": "python",
   "pygments_lexer": "ipython3",
   "version": "3.8.5"
  }
 },
 "nbformat": 4,
 "nbformat_minor": 4
}
