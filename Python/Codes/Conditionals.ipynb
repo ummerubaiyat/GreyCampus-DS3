{
 "cells": [
  {
   "cell_type": "markdown",
   "metadata": {},
   "source": [
    "# IF Conditional"
   ]
  },
  {
   "cell_type": "code",
   "execution_count": 2,
   "metadata": {},
   "outputs": [],
   "source": [
    "a = \"Python Programming\"\n",
    "b = \"Java Programming\""
   ]
  },
  {
   "cell_type": "code",
   "execution_count": 3,
   "metadata": {},
   "outputs": [
    {
     "name": "stdout",
     "output_type": "stream",
     "text": [
      "Python Programming\n"
     ]
    }
   ],
   "source": [
    "print(a)"
   ]
  },
  {
   "cell_type": "code",
   "execution_count": 4,
   "metadata": {},
   "outputs": [
    {
     "name": "stdout",
     "output_type": "stream",
     "text": [
      "Java Programming\n"
     ]
    }
   ],
   "source": [
    "print(b)"
   ]
  },
  {
   "cell_type": "markdown",
   "metadata": {},
   "source": [
    "# Strings with Lesser Characters"
   ]
  },
  {
   "cell_type": "code",
   "execution_count": 5,
   "metadata": {},
   "outputs": [
    {
     "name": "stdout",
     "output_type": "stream",
     "text": [
      "Length of String A is 18 and String B is 16\n"
     ]
    }
   ],
   "source": [
    "len_a = len(a)\n",
    "len_b = len(b)\n",
    "print(f'Length of String A is {len_a} and String B is {len_b}')"
   ]
  },
  {
   "cell_type": "code",
   "execution_count": 6,
   "metadata": {},
   "outputs": [
    {
     "name": "stdout",
     "output_type": "stream",
     "text": [
      "Length of Variable A is Greater than Variable B and Hence Variable B is the Smallest\n"
     ]
    }
   ],
   "source": [
    "if len_a > len_b:\n",
    "    print('Length of Variable A is Greater than Variable B and Hence Variable B is the Smallest')"
   ]
  },
  {
   "cell_type": "code",
   "execution_count": 9,
   "metadata": {},
   "outputs": [
    {
     "name": "stdout",
     "output_type": "stream",
     "text": [
      "Length of Python Programming is Greater and hence Java Programming is the Smallest String that we have\n"
     ]
    }
   ],
   "source": [
    "if len_a > len_b:\n",
    "    print(f'Length of {a} is Greater and hence {b} is the Smallest String that we have')"
   ]
  },
  {
   "cell_type": "code",
   "execution_count": 10,
   "metadata": {},
   "outputs": [
    {
     "data": {
      "text/plain": [
       "'Python Programming'"
      ]
     },
     "execution_count": 10,
     "metadata": {},
     "output_type": "execute_result"
    }
   ],
   "source": [
    "a"
   ]
  },
  {
   "cell_type": "code",
   "execution_count": 11,
   "metadata": {},
   "outputs": [
    {
     "data": {
      "text/plain": [
       "'Java Programming'"
      ]
     },
     "execution_count": 11,
     "metadata": {},
     "output_type": "execute_result"
    }
   ],
   "source": [
    "b"
   ]
  },
  {
   "cell_type": "code",
   "execution_count": 12,
   "metadata": {},
   "outputs": [
    {
     "name": "stdout",
     "output_type": "stream",
     "text": [
      "Length of String A is 5 and String B is 7\n"
     ]
    }
   ],
   "source": [
    "a = \"Scala\"\n",
    "b = \"Angular\"\n",
    "len_a = len(a)\n",
    "len_b = len(b)\n",
    "print(f'Length of String A is {len_a} and String B is {len_b}')"
   ]
  },
  {
   "cell_type": "code",
   "execution_count": 13,
   "metadata": {},
   "outputs": [],
   "source": [
    "if len(a) > len(b):\n",
    "    print(f'Length of {a} is Greater and hence {b} is the Smallest String that we have')"
   ]
  },
  {
   "cell_type": "markdown",
   "metadata": {},
   "source": [
    "# ELIF's"
   ]
  },
  {
   "cell_type": "code",
   "execution_count": 30,
   "metadata": {},
   "outputs": [
    {
     "name": "stdout",
     "output_type": "stream",
     "text": [
      "A:Scala\n",
      "B:Julia\n"
     ]
    }
   ],
   "source": [
    "a = input(\"A:\")\n",
    "b = input(\"B:\")"
   ]
  },
  {
   "cell_type": "code",
   "execution_count": 31,
   "metadata": {},
   "outputs": [
    {
     "name": "stdout",
     "output_type": "stream",
     "text": [
      "Length of Julia Equal to Scala hence there are no smaller strings\n"
     ]
    }
   ],
   "source": [
    "if len(a) > len(b):\n",
    "    print(f'Length of {a} is Greater and hence {b} is the Smallest String that we have')\n",
    "elif len(b) > len(a):\n",
    "    print(f'Length of {b} is Greater and hence {a} is the Smallest String that we have')\n",
    "elif len(b) == len(a):\n",
    "    print(f'Length of {b} Equal to {a} hence there are no smaller strings')"
   ]
  },
  {
   "cell_type": "code",
   "execution_count": 16,
   "metadata": {},
   "outputs": [
    {
     "data": {
      "text/plain": [
       "'Scala'"
      ]
     },
     "execution_count": 16,
     "metadata": {},
     "output_type": "execute_result"
    }
   ],
   "source": [
    "a"
   ]
  },
  {
   "cell_type": "code",
   "execution_count": 17,
   "metadata": {},
   "outputs": [
    {
     "data": {
      "text/plain": [
       "'Angular'"
      ]
     },
     "execution_count": 17,
     "metadata": {},
     "output_type": "execute_result"
    }
   ],
   "source": [
    "b"
   ]
  },
  {
   "cell_type": "markdown",
   "metadata": {},
   "source": [
    "# Else"
   ]
  },
  {
   "cell_type": "code",
   "execution_count": 38,
   "metadata": {},
   "outputs": [
    {
     "name": "stdout",
     "output_type": "stream",
     "text": [
      "A:Scala\n",
      "B:Julia\n"
     ]
    }
   ],
   "source": [
    "a = input(\"A:\")\n",
    "b = input(\"B:\")"
   ]
  },
  {
   "cell_type": "code",
   "execution_count": 39,
   "metadata": {},
   "outputs": [
    {
     "name": "stdout",
     "output_type": "stream",
     "text": [
      "Length of Julia Equal to Scala hence there are no smaller strings\n"
     ]
    }
   ],
   "source": [
    "if len(a) > len(b):\n",
    "    print(f'Length of {a} is Greater and hence {b} is the Smallest String that we have')\n",
    "elif len(a) < len(b):\n",
    "    print(f'Length of {b} is Greater and hence {a} is the Smallest String that we have')\n",
    "else:\n",
    "    print(f'Length of {b} Equal to {a} hence there are no smaller strings')"
   ]
  },
  {
   "cell_type": "markdown",
   "metadata": {},
   "source": [
    "# Logical Operations in Conditionals"
   ]
  },
  {
   "cell_type": "code",
   "execution_count": 44,
   "metadata": {},
   "outputs": [
    {
     "name": "stdout",
     "output_type": "stream",
     "text": [
      "Please Enter your Age:25\n",
      "Have you made the BookingYes\n",
      "\n",
      "Please Enjoy your Movie\n"
     ]
    }
   ],
   "source": [
    "# Validating both the Statements = Age is > 18 and Booked\n",
    "\n",
    "age = int(input('Please Enter your Age: '))\n",
    "booking = input(\"Have you made the Booking: \")\n",
    "\n",
    "if (age >= 18) and (booking == \"Yes\"):\n",
    "    print('\\nPlease Enjoy your Movie')\n",
    "else:\n",
    "    print('Sorry, Unfortunately we cannot allow you')"
   ]
  },
  {
   "cell_type": "code",
   "execution_count": 46,
   "metadata": {},
   "outputs": [
    {
     "name": "stdout",
     "output_type": "stream",
     "text": [
      "Please Enter your Age: 17\n",
      "Have you made the Booking: Yes\n",
      "\n",
      "Sorry, Unfortunately we cannot allow you\n"
     ]
    }
   ],
   "source": [
    "# Validating both the Statements = Age is < 18 and Booked\n",
    "\n",
    "age = int(input('Please Enter your Age: '))\n",
    "booking = input(\"Have you made the Booking: \")\n",
    "\n",
    "if (age >= 18) and (booking == \"Yes\"):\n",
    "    print('\\nPlease Enjoy your Movie')\n",
    "else:\n",
    "    print('\\nSorry, Unfortunately we cannot allow you')"
   ]
  },
  {
   "cell_type": "code",
   "execution_count": 47,
   "metadata": {},
   "outputs": [
    {
     "name": "stdout",
     "output_type": "stream",
     "text": [
      "Please Enter your Age: 25\n",
      "Have you made the Booking: No\n",
      "\n",
      "Sorry, Unfortunately we cannot allow you\n"
     ]
    }
   ],
   "source": [
    "# Validating both the Statements = Age is > 18 and Not Booked\n",
    "\n",
    "age = int(input('Please Enter your Age: '))\n",
    "booking = input(\"Have you made the Booking: \")\n",
    "\n",
    "if (age >= 18) and (booking == \"Yes\"):\n",
    "    print('\\nPlease Enjoy your Movie')\n",
    "else:\n",
    "    print('\\nSorry, Unfortunately we cannot allow you')"
   ]
  },
  {
   "cell_type": "code",
   "execution_count": 51,
   "metadata": {},
   "outputs": [
    {
     "name": "stdout",
     "output_type": "stream",
     "text": [
      "Please Enter your Age: 17\n",
      "Have you made the Booking: No\n",
      "Sorry, Unfortunately we cannot allow you\n"
     ]
    }
   ],
   "source": [
    "# Validating both the Statements = Age is > 18 or Booked\n",
    "\n",
    "age = int(input('Please Enter your Age: '))\n",
    "booking = input(\"Have you made the Booking: \")\n",
    "\n",
    "if (age >= 18) or (booking == \"Yes\"):\n",
    "    print('\\nPlease Enjoy your Movie')\n",
    "else:\n",
    "    print('Sorry, Unfortunately we cannot allow you')"
   ]
  },
  {
   "cell_type": "code",
   "execution_count": 53,
   "metadata": {},
   "outputs": [
    {
     "name": "stdout",
     "output_type": "stream",
     "text": [
      "Please Enter your Age: 18\n",
      "Have you made the Booking: Yes\n",
      "Sorry, Unfortunately we cannot allow you\n"
     ]
    }
   ],
   "source": [
    "age = int(input('Please Enter your Age: '))\n",
    "booking = input(\"Have you made the Booking: \")\n",
    "\n",
    "if not age >= 18:\n",
    "    print('\\nPlease Enjoy your Movie')\n",
    "else:\n",
    "    print('Sorry, Unfortunately we cannot allow you')"
   ]
  },
  {
   "cell_type": "markdown",
   "metadata": {},
   "source": [
    "# Nested IF's"
   ]
  },
  {
   "cell_type": "code",
   "execution_count": 60,
   "metadata": {},
   "outputs": [
    {
     "name": "stdout",
     "output_type": "stream",
     "text": [
      "Please Enter True if Won, else False: Yes\n",
      "Score of Virat Kohli: 45\n",
      "Team India Won\n"
     ]
    }
   ],
   "source": [
    "match_won = input(\"Please Enter True if Won, else False: \")\n",
    "kohli = int(input('Score of Virat Kohli: '))\n",
    "\n",
    "if match_won == \"Yes\":\n",
    "    if kohli >= 80:\n",
    "        print(f\"Virat's Contribution of {kohli} has helped Team India to Win the Match\")\n",
    "    else:\n",
    "        print('Team India Won')\n",
    "else:\n",
    "    print(\"Unfortunately, India Lost\")"
   ]
  },
  {
   "cell_type": "code",
   "execution_count": 67,
   "metadata": {},
   "outputs": [
    {
     "name": "stdout",
     "output_type": "stream",
     "text": [
      "X: 10\n",
      "Y: 12\n",
      "Z: 15\n",
      "Z is Greater than Y and X\n"
     ]
    }
   ],
   "source": [
    "x = int(input(\"X: \"))\n",
    "y = int(input(\"Y: \"))\n",
    "z = int(input(\"Z: \"))\n",
    "\n",
    "if x > y and x > z:\n",
    "    print('X is Greater than Y and Z')\n",
    "else:\n",
    "    if z > y:\n",
    "        print(\"Z is Greater than Y and X\")\n",
    "    else:\n",
    "        print(\"Y is Greater than X and Z\")"
   ]
  },
  {
   "cell_type": "markdown",
   "metadata": {},
   "source": [
    "# Loops"
   ]
  },
  {
   "cell_type": "markdown",
   "metadata": {},
   "source": [
    "### For Loop with Range"
   ]
  },
  {
   "cell_type": "code",
   "execution_count": 68,
   "metadata": {},
   "outputs": [
    {
     "data": {
      "text/plain": [
       "[0, 1, 2, 3, 4, 5, 6, 7, 8, 9]"
      ]
     },
     "execution_count": 68,
     "metadata": {},
     "output_type": "execute_result"
    }
   ],
   "source": [
    "list(range(10))"
   ]
  },
  {
   "cell_type": "code",
   "execution_count": 69,
   "metadata": {},
   "outputs": [
    {
     "data": {
      "text/plain": [
       "[1, 2, 3, 4, 5, 6, 7, 8, 9]"
      ]
     },
     "execution_count": 69,
     "metadata": {},
     "output_type": "execute_result"
    }
   ],
   "source": [
    "list(range(1,10))"
   ]
  },
  {
   "cell_type": "code",
   "execution_count": 70,
   "metadata": {},
   "outputs": [
    {
     "data": {
      "text/plain": [
       "[1, 3, 5, 7, 9]"
      ]
     },
     "execution_count": 70,
     "metadata": {},
     "output_type": "execute_result"
    }
   ],
   "source": [
    "list(range(1,10,2))"
   ]
  },
  {
   "cell_type": "code",
   "execution_count": 72,
   "metadata": {},
   "outputs": [
    {
     "name": "stdout",
     "output_type": "stream",
     "text": [
      "Python\n",
      "Python\n",
      "Python\n",
      "Python\n",
      "Python\n"
     ]
    }
   ],
   "source": [
    "for i in range(5):\n",
    "    print(\"Python\")"
   ]
  },
  {
   "cell_type": "code",
   "execution_count": 71,
   "metadata": {},
   "outputs": [
    {
     "data": {
      "text/plain": [
       "[0, 1, 2, 3, 4]"
      ]
     },
     "execution_count": 71,
     "metadata": {},
     "output_type": "execute_result"
    }
   ],
   "source": [
    "list(range(5))"
   ]
  },
  {
   "cell_type": "code",
   "execution_count": 73,
   "metadata": {},
   "outputs": [
    {
     "name": "stdout",
     "output_type": "stream",
     "text": [
      "0\n",
      "1\n",
      "2\n",
      "3\n",
      "4\n"
     ]
    }
   ],
   "source": [
    "for i in range(5):\n",
    "    print(i)"
   ]
  },
  {
   "cell_type": "code",
   "execution_count": 75,
   "metadata": {},
   "outputs": [
    {
     "name": "stdout",
     "output_type": "stream",
     "text": [
      "0 is an Even Number\n",
      "1 is an Odd Number\n",
      "2 is an Even Number\n",
      "3 is an Odd Number\n",
      "4 is an Even Number\n",
      "5 is an Odd Number\n",
      "6 is an Even Number\n",
      "7 is an Odd Number\n",
      "8 is an Even Number\n",
      "9 is an Odd Number\n",
      "10 is an Even Number\n",
      "11 is an Odd Number\n",
      "12 is an Even Number\n",
      "13 is an Odd Number\n",
      "14 is an Even Number\n"
     ]
    }
   ],
   "source": [
    "for i in range(15):\n",
    "    if i % 2 == 0:\n",
    "        print(i, 'is an Even Number')\n",
    "    else:\n",
    "        print(i, \"is an Odd Number\")"
   ]
  },
  {
   "cell_type": "code",
   "execution_count": 77,
   "metadata": {},
   "outputs": [
    {
     "name": "stdout",
     "output_type": "stream",
     "text": [
      "X: 10\n",
      "Y: 12\n",
      "Z: 14\n",
      "Z is Greater than Y and X\n"
     ]
    }
   ],
   "source": [
    "x = int(input(\"X: \"))\n",
    "y = int(input(\"Y: \"))\n",
    "z = int(input(\"Z: \"))\n",
    "\n",
    "if x > y and x > z:\n",
    "    print(\"X is Greater than Y and Z\")\n",
    "else:\n",
    "    if y > z:\n",
    "        print('Y is Greater than Z and X')\n",
    "    else:\n",
    "        print('Z is Greater than Y and X')"
   ]
  },
  {
   "cell_type": "code",
   "execution_count": 78,
   "metadata": {},
   "outputs": [
    {
     "name": "stdout",
     "output_type": "stream",
     "text": [
      "X: 25\n",
      "Y: 14\n",
      "Z: 23\n",
      "X is Greater than Y and Z\n",
      "X: 14\n",
      "Y: 25\n",
      "Z: 13\n",
      "Y is Greater than Z and X\n",
      "X: 11\n",
      "Y: 21\n",
      "Z: 23\n",
      "Z is Greater than Y and X\n"
     ]
    }
   ],
   "source": [
    "for i in range(3):\n",
    "    x = int(input(\"X: \"))\n",
    "    y = int(input(\"Y: \"))\n",
    "    z = int(input(\"Z: \"))\n",
    "\n",
    "    if x > y and x > z:\n",
    "        print(\"X is Greater than Y and Z\")\n",
    "    else:\n",
    "        if y > z:\n",
    "            print('Y is Greater than Z and X')\n",
    "        else:\n",
    "            print('Z is Greater than Y and X')"
   ]
  },
  {
   "cell_type": "markdown",
   "metadata": {},
   "source": [
    "# For Loop with Variables"
   ]
  },
  {
   "cell_type": "code",
   "execution_count": 79,
   "metadata": {},
   "outputs": [
    {
     "data": {
      "text/plain": [
       "[67, 84, 78, 58, 57, 11, 31, 96, 50, 24]"
      ]
     },
     "execution_count": 79,
     "metadata": {},
     "output_type": "execute_result"
    }
   ],
   "source": [
    "import random\n",
    "l = [random.randint(10,100) for i in range(10)]\n",
    "l"
   ]
  },
  {
   "cell_type": "code",
   "execution_count": 80,
   "metadata": {},
   "outputs": [
    {
     "data": {
      "text/plain": [
       "(94, 38, 34, 98, 51, 62, 93, 70, 57, 99)"
      ]
     },
     "execution_count": 80,
     "metadata": {},
     "output_type": "execute_result"
    }
   ],
   "source": [
    "t = tuple([random.randint(10,100) for i in range(10)])\n",
    "t"
   ]
  },
  {
   "cell_type": "code",
   "execution_count": 81,
   "metadata": {},
   "outputs": [
    {
     "data": {
      "text/plain": [
       "['Mark', 'Antony', 'Julian', 'Meso']"
      ]
     },
     "execution_count": 81,
     "metadata": {},
     "output_type": "execute_result"
    }
   ],
   "source": [
    "students = [\"Mark\", \"Antony\", \"Julian\", \"Meso\"]\n",
    "students"
   ]
  },
  {
   "cell_type": "code",
   "execution_count": 82,
   "metadata": {},
   "outputs": [
    {
     "data": {
      "text/plain": [
       "[35, 45, 89, 75]"
      ]
     },
     "execution_count": 82,
     "metadata": {},
     "output_type": "execute_result"
    }
   ],
   "source": [
    "marks = [35,45,89,75]\n",
    "marks"
   ]
  },
  {
   "cell_type": "code",
   "execution_count": 83,
   "metadata": {},
   "outputs": [],
   "source": [
    "d = {}\n",
    "for i, j in zip(students, marks):\n",
    "    d[i] = j"
   ]
  },
  {
   "cell_type": "code",
   "execution_count": 84,
   "metadata": {},
   "outputs": [
    {
     "data": {
      "text/plain": [
       "{'Mark': 35, 'Antony': 45, 'Julian': 89, 'Meso': 75}"
      ]
     },
     "execution_count": 84,
     "metadata": {},
     "output_type": "execute_result"
    }
   ],
   "source": [
    "d"
   ]
  },
  {
   "cell_type": "code",
   "execution_count": 85,
   "metadata": {},
   "outputs": [
    {
     "data": {
      "text/plain": [
       "[67, 84, 78, 58, 57, 11, 31, 96, 50, 24]"
      ]
     },
     "execution_count": 85,
     "metadata": {},
     "output_type": "execute_result"
    }
   ],
   "source": [
    "l"
   ]
  },
  {
   "cell_type": "code",
   "execution_count": 86,
   "metadata": {},
   "outputs": [
    {
     "data": {
      "text/plain": [
       "(94, 38, 34, 98, 51, 62, 93, 70, 57, 99)"
      ]
     },
     "execution_count": 86,
     "metadata": {},
     "output_type": "execute_result"
    }
   ],
   "source": [
    "t"
   ]
  },
  {
   "cell_type": "code",
   "execution_count": 87,
   "metadata": {},
   "outputs": [
    {
     "data": {
      "text/plain": [
       "{'Mark': 35, 'Antony': 45, 'Julian': 89, 'Meso': 75}"
      ]
     },
     "execution_count": 87,
     "metadata": {},
     "output_type": "execute_result"
    }
   ],
   "source": [
    "d"
   ]
  },
  {
   "cell_type": "code",
   "execution_count": 89,
   "metadata": {},
   "outputs": [
    {
     "name": "stdout",
     "output_type": "stream",
     "text": [
      "Square of 84 is 7056\n",
      "Square of 78 is 6084\n",
      "Square of 58 is 3364\n",
      "Square of 96 is 9216\n",
      "Square of 50 is 2500\n",
      "Square of 24 is 576\n"
     ]
    }
   ],
   "source": [
    "for i in l:\n",
    "    if i % 2 == 0:\n",
    "        print(f'Square of {i} is {i*i}')"
   ]
  },
  {
   "cell_type": "code",
   "execution_count": 90,
   "metadata": {},
   "outputs": [
    {
     "data": {
      "text/plain": [
       "(94, 38, 34, 98, 51, 62, 93, 70, 57, 99)"
      ]
     },
     "execution_count": 90,
     "metadata": {},
     "output_type": "execute_result"
    }
   ],
   "source": [
    "t"
   ]
  },
  {
   "cell_type": "code",
   "execution_count": 92,
   "metadata": {},
   "outputs": [
    {
     "name": "stdout",
     "output_type": "stream",
     "text": [
      "Square of 51 is 2601\n",
      "Square of 93 is 8649\n",
      "Square of 57 is 3249\n",
      "Square of 99 is 9801\n"
     ]
    }
   ],
   "source": [
    "for i in t:\n",
    "    if i % 2 == 1:\n",
    "        print(f'Square of {i} is {i*i}')"
   ]
  },
  {
   "cell_type": "code",
   "execution_count": 95,
   "metadata": {},
   "outputs": [
    {
     "data": {
      "text/plain": [
       "[35, 45, 89, 75]"
      ]
     },
     "execution_count": 95,
     "metadata": {},
     "output_type": "execute_result"
    }
   ],
   "source": [
    "list(d.values())"
   ]
  },
  {
   "cell_type": "code",
   "execution_count": 93,
   "metadata": {},
   "outputs": [
    {
     "name": "stdout",
     "output_type": "stream",
     "text": [
      "Square of the Value is: 1225\n",
      "Square of the Value is: 2025\n",
      "Square of the Value is: 7921\n",
      "Square of the Value is: 5625\n"
     ]
    }
   ],
   "source": [
    "for i in d.values():\n",
    "    print('Square of the Value is:', i*i)"
   ]
  },
  {
   "cell_type": "markdown",
   "metadata": {},
   "source": [
    "# While"
   ]
  },
  {
   "cell_type": "code",
   "execution_count": 96,
   "metadata": {},
   "outputs": [
    {
     "name": "stdout",
     "output_type": "stream",
     "text": [
      "0\n",
      "1\n",
      "2\n",
      "3\n",
      "4\n"
     ]
    }
   ],
   "source": [
    "for i in range(5):\n",
    "    print(i)"
   ]
  },
  {
   "cell_type": "code",
   "execution_count": 100,
   "metadata": {},
   "outputs": [
    {
     "name": "stdout",
     "output_type": "stream",
     "text": [
      "0\n",
      "1\n",
      "2\n",
      "3\n",
      "4\n"
     ]
    }
   ],
   "source": [
    "n = 0\n",
    "while n != 5:\n",
    "    print(n)\n",
    "    n += 1"
   ]
  },
  {
   "cell_type": "code",
   "execution_count": 101,
   "metadata": {},
   "outputs": [
    {
     "data": {
      "text/plain": [
       "5"
      ]
     },
     "execution_count": 101,
     "metadata": {},
     "output_type": "execute_result"
    }
   ],
   "source": [
    "n"
   ]
  },
  {
   "cell_type": "code",
   "execution_count": 102,
   "metadata": {},
   "outputs": [
    {
     "data": {
      "text/plain": [
       "[67, 84, 78, 58, 57, 11, 31, 96, 50, 24]"
      ]
     },
     "execution_count": 102,
     "metadata": {},
     "output_type": "execute_result"
    }
   ],
   "source": [
    "l"
   ]
  },
  {
   "cell_type": "code",
   "execution_count": 105,
   "metadata": {},
   "outputs": [
    {
     "name": "stdout",
     "output_type": "stream",
     "text": [
      "84 is an Even Number\n",
      "78 is an Even Number\n",
      "58 is an Even Number\n",
      "96 is an Even Number\n",
      "50 is an Even Number\n",
      "24 is an Even Number\n"
     ]
    }
   ],
   "source": [
    "j = 0\n",
    "while j != len(l):\n",
    "    if l[j] % 2 == 0:\n",
    "        print(f'{l[j]} is an Even Number')\n",
    "    j += 1"
   ]
  },
  {
   "cell_type": "code",
   "execution_count": 106,
   "metadata": {},
   "outputs": [
    {
     "data": {
      "text/plain": [
       "10"
      ]
     },
     "execution_count": 106,
     "metadata": {},
     "output_type": "execute_result"
    }
   ],
   "source": [
    "len(l)"
   ]
  },
  {
   "cell_type": "code",
   "execution_count": 107,
   "metadata": {},
   "outputs": [
    {
     "data": {
      "text/plain": [
       "10"
      ]
     },
     "execution_count": 107,
     "metadata": {},
     "output_type": "execute_result"
    }
   ],
   "source": [
    "j"
   ]
  },
  {
   "cell_type": "markdown",
   "metadata": {},
   "source": [
    "# Break"
   ]
  },
  {
   "cell_type": "code",
   "execution_count": 109,
   "metadata": {},
   "outputs": [],
   "source": [
    "secret_num = random.randint(1,10)"
   ]
  },
  {
   "cell_type": "code",
   "execution_count": 111,
   "metadata": {},
   "outputs": [
    {
     "name": "stdout",
     "output_type": "stream",
     "text": [
      "Please Guess a Number between 1 to 10: 6\n",
      "Yay!, You are a Genius\n",
      "Please Guess a Number between 1 to 10: 3\n",
      "Guess Higher\n",
      "Please Guess a Number between 1 to 10: 10\n",
      "Guess Lesser\n"
     ]
    }
   ],
   "source": [
    "for i in range(3):\n",
    "    guess = int(input('Please Guess a Number between 1 to 10: '))\n",
    "    if secret_num == guess:\n",
    "        print('Yay!, You are a Genius')\n",
    "    elif secret_num > guess:\n",
    "        print('Guess Higher')\n",
    "    else:\n",
    "        print('Guess Lesser')"
   ]
  },
  {
   "cell_type": "code",
   "execution_count": 112,
   "metadata": {},
   "outputs": [
    {
     "name": "stdout",
     "output_type": "stream",
     "text": [
      "Please Guess a Number between 1 to 10: 7\n",
      "Guess Lesser\n",
      "Please Guess a Number between 1 to 10: 6\n",
      "Yay!, You are a Genius\n"
     ]
    }
   ],
   "source": [
    "for i in range(3):\n",
    "    guess = int(input('Please Guess a Number between 1 to 10: '))\n",
    "    if secret_num == guess:\n",
    "        print('Yay!, You are a Genius')\n",
    "        break\n",
    "    elif secret_num > guess:\n",
    "        print('Guess Higher')\n",
    "    else:\n",
    "        print('Guess Lesser')"
   ]
  },
  {
   "cell_type": "code",
   "execution_count": 113,
   "metadata": {},
   "outputs": [
    {
     "name": "stdout",
     "output_type": "stream",
     "text": [
      "0\n",
      "1\n",
      "2\n",
      "3\n",
      "4\n",
      "5\n"
     ]
    }
   ],
   "source": [
    "for i in range(10):\n",
    "    if i == 6:\n",
    "        break\n",
    "    else:\n",
    "        print(i)"
   ]
  },
  {
   "cell_type": "markdown",
   "metadata": {},
   "source": [
    "# Continue Statement"
   ]
  },
  {
   "cell_type": "code",
   "execution_count": 114,
   "metadata": {},
   "outputs": [
    {
     "name": "stdout",
     "output_type": "stream",
     "text": [
      "P\n",
      "y\n",
      "t\n",
      "h\n",
      "o\n",
      "n\n",
      " \n",
      "P\n",
      "r\n",
      "o\n",
      "r\n",
      "a\n",
      "m\n",
      "m\n",
      "i\n",
      "n\n"
     ]
    }
   ],
   "source": [
    "a = \"Python Programming\"\n",
    "\n",
    "for i in a:\n",
    "    if i == \"g\":\n",
    "        continue\n",
    "    else:\n",
    "        print(i)"
   ]
  },
  {
   "cell_type": "code",
   "execution_count": 115,
   "metadata": {},
   "outputs": [
    {
     "data": {
      "text/plain": [
       "[36, 26, 26, 41, 36, 42, 15, 23, 20, 14]"
      ]
     },
     "execution_count": 115,
     "metadata": {},
     "output_type": "execute_result"
    }
   ],
   "source": [
    "l = [random.randint(10,50) for i in range(10)]\n",
    "l"
   ]
  },
  {
   "cell_type": "code",
   "execution_count": 118,
   "metadata": {},
   "outputs": [
    {
     "name": "stdout",
     "output_type": "stream",
     "text": [
      "26\n",
      "26\n",
      "41\n",
      "15\n",
      "23\n",
      "20\n",
      "14\n"
     ]
    }
   ],
   "source": [
    "for i in l:\n",
    "    if i % 6 == 0:\n",
    "        continue\n",
    "    else:\n",
    "        print(i)"
   ]
  },
  {
   "cell_type": "code",
   "execution_count": null,
   "metadata": {},
   "outputs": [],
   "source": []
  },
  {
   "cell_type": "code",
   "execution_count": null,
   "metadata": {},
   "outputs": [],
   "source": []
  },
  {
   "cell_type": "code",
   "execution_count": null,
   "metadata": {},
   "outputs": [],
   "source": []
  }
 ],
 "metadata": {
  "kernelspec": {
   "display_name": "Python 3",
   "language": "python",
   "name": "python3"
  },
  "language_info": {
   "codemirror_mode": {
    "name": "ipython",
    "version": 3
   },
   "file_extension": ".py",
   "mimetype": "text/x-python",
   "name": "python",
   "nbconvert_exporter": "python",
   "pygments_lexer": "ipython3",
   "version": "3.8.5"
  }
 },
 "nbformat": 4,
 "nbformat_minor": 4
}
