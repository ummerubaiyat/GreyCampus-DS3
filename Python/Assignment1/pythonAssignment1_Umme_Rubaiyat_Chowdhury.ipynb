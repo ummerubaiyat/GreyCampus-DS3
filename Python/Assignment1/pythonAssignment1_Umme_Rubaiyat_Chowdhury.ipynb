{
 "cells": [
  {
   "cell_type": "code",
   "execution_count": 1,
   "metadata": {},
   "outputs": [],
   "source": [
    "#1. Import the Numpy package under the name np\n",
    "import numpy as np"
   ]
  },
  {
   "cell_type": "code",
   "execution_count": 2,
   "metadata": {},
   "outputs": [
    {
     "name": "stdout",
     "output_type": "stream",
     "text": [
      "[0. 0. 0. 0. 0. 0. 0. 0. 0. 0.]\n"
     ]
    }
   ],
   "source": [
    "#2.Create a null vector of size 10\n",
    "null_vector= np.zeros(10)\n",
    "print(null_vector)"
   ]
  },
  {
   "cell_type": "code",
   "execution_count": 3,
   "metadata": {},
   "outputs": [
    {
     "name": "stdout",
     "output_type": "stream",
     "text": [
      "[0. 0. 0. 0. 1. 0. 0. 0. 0. 0.]\n"
     ]
    }
   ],
   "source": [
    "# 3.Create a null vector of size 10 but the fifth value which is 1\n",
    "null_vector= np.zeros(10)\n",
    "null_vector[4]=1\n",
    "print(null_vector)"
   ]
  },
  {
   "cell_type": "code",
   "execution_count": 4,
   "metadata": {},
   "outputs": [
    {
     "name": "stdout",
     "output_type": "stream",
     "text": [
      "[10 11 12 13 14 15 16 17 18 19 20 21 22 23 24 25 26 27 28 29 30 31 32 33\n",
      " 34 35 36 37 38 39 40 41 42 43 44 45 46 47 48 49]\n"
     ]
    }
   ],
   "source": [
    "#4. Create a vector with values ranging from 10 to 49\n",
    "vector= np.arange(10,50)\n",
    "print(vector)"
   ]
  },
  {
   "cell_type": "code",
   "execution_count": 5,
   "metadata": {},
   "outputs": [
    {
     "name": "stdout",
     "output_type": "stream",
     "text": [
      "[5, 4, 3, 2, 1]\n"
     ]
    }
   ],
   "source": [
    "#5. Reverse a vector (the first element becomes last)\n",
    "reverse_vector = [1, 2, 3, 4, 5]\n",
    "reverse_vector.reverse()\n",
    "print(reverse_vector)"
   ]
  },
  {
   "cell_type": "code",
   "execution_count": 6,
   "metadata": {},
   "outputs": [
    {
     "name": "stdout",
     "output_type": "stream",
     "text": [
      "[[0 1 2]\n",
      " [3 4 5]\n",
      " [6 7 8]]\n"
     ]
    }
   ],
   "source": [
    "# 6.Create a 3x3 matrix with values ranging from 0 to 8\n",
    "mat= np.arange(0,9).reshape(3,3)\n",
    "print(mat)"
   ]
  },
  {
   "cell_type": "code",
   "execution_count": 7,
   "metadata": {},
   "outputs": [
    {
     "name": "stdout",
     "output_type": "stream",
     "text": [
      "[0, 1, 4]\n"
     ]
    }
   ],
   "source": [
    "# 7.Find indices of non­zero elements from [1,2,0,0,4,0]\n",
    "arr=np.array([1,2,0,0,4,0])\n",
    "nonZero=list(np.nonzero(arr)[0])\n",
    "print(nonZero)\n",
    "# OR\n",
    "# arr=[1,2,0,0,4,0]\n",
    "# nonZero=np.nonzero(arr)\n",
    "# print(nonZero\n",
    "# OR\n",
    "# li = [2, 0, 5, 7, 0, 9]\n",
    "# li_new = []\n",
    "# for i in range(len(li)):\n",
    "#     if li[i]!=0:\n",
    "#         li_new.append(i)\n",
    "# print(li_new)"
   ]
  },
  {
   "cell_type": "code",
   "execution_count": 8,
   "metadata": {},
   "outputs": [
    {
     "name": "stdout",
     "output_type": "stream",
     "text": [
      "[[[0.83560033 0.63055936 0.45410583]\n",
      "  [0.47765784 0.69370184 0.41287714]\n",
      "  [0.58038431 0.27645602 0.73797578]]\n",
      "\n",
      " [[0.25620253 0.43272589 0.96935849]\n",
      "  [0.91533674 0.87711566 0.78312137]\n",
      "  [0.4890782  0.2507074  0.11195847]]\n",
      "\n",
      " [[0.74785015 0.80320096 0.32788123]\n",
      "  [0.62277596 0.0538529  0.17601937]\n",
      "  [0.87541987 0.52659929 0.63020497]]]\n"
     ]
    }
   ],
   "source": [
    "# 8.Create a 3x3x3 array with random values\n",
    "ranVal = np.random.random((3,3,3))\n",
    "print(ranVal)"
   ]
  },
  {
   "cell_type": "code",
   "execution_count": 9,
   "metadata": {},
   "outputs": [
    {
     "name": "stdout",
     "output_type": "stream",
     "text": [
      "[0.91124051 0.06490877 0.07493889 0.88611161 0.99691019 0.75001634\n",
      " 0.72030667 0.97083231 0.22559287 0.20086493 0.53163281 0.45023018\n",
      " 0.59687158 0.51192306 0.21212083 0.43235005 0.53402957 0.8504788\n",
      " 0.76778304 0.70111303 0.87144576 0.72859486 0.66292181 0.3199536\n",
      " 0.96411143 0.22961571 0.68726859 0.36200105 0.5845483  0.95392312]\n"
     ]
    }
   ],
   "source": [
    "# 9.Create a random vector of size 30 and find the mean value\n",
    "ranVal = np.random.random((30))\n",
    "ranVal.mean()\n",
    "print(ranVal)"
   ]
  },
  {
   "cell_type": "code",
   "execution_count": 10,
   "metadata": {},
   "outputs": [
    {
     "name": "stdout",
     "output_type": "stream",
     "text": [
      "[[1 1 1 1 1 1]\n",
      " [1 0 0 0 0 1]\n",
      " [1 0 0 0 0 1]\n",
      " [1 0 0 0 0 1]\n",
      " [1 0 0 0 0 1]\n",
      " [1 1 1 1 1 1]]\n"
     ]
    }
   ],
   "source": [
    "# 10.Create a 2d array with 1 on the border and 0 inside\n",
    "arr= np.full((6,6),1)\n",
    "arr[1:-1,1:-1]=0\n",
    "print(arr)"
   ]
  },
  {
   "cell_type": "code",
   "execution_count": 11,
   "metadata": {},
   "outputs": [
    {
     "name": "stdout",
     "output_type": "stream",
     "text": [
      "[[0 1 0 1 0 1 0 1]\n",
      " [1 0 1 0 1 0 1 0]\n",
      " [0 1 0 1 0 1 0 1]\n",
      " [1 0 1 0 1 0 1 0]\n",
      " [0 1 0 1 0 1 0 1]\n",
      " [1 0 1 0 1 0 1 0]\n",
      " [0 1 0 1 0 1 0 1]\n",
      " [1 0 1 0 1 0 1 0]]\n"
     ]
    }
   ],
   "source": [
    "#11.Create an 8x8 matrix and fill it with a checkerboard pattern\n",
    "\n",
    "arr= np.full((8,8),0)\n",
    "arr[1::2,::2]=1\n",
    "arr[::2,1::2]=1\n",
    "print(arr)"
   ]
  },
  {
   "cell_type": "markdown",
   "metadata": {},
   "source": [
    "#12.What is the major difference between sets, lists, tuples and dictionaries?\n",
    "Lists\n",
    "\n",
    "    List is a collection which is ordered.\n",
    "    Lists are mutable (changeable) .\n",
    "    Allows duplicate members\n",
    "    Brackets used to represent: []\n",
    "    Lists are like arrays declared in other languages.\n",
    "\n",
    "Tuples\n",
    "\n",
    "    Collection of items which is ordered.\n",
    "    Tuples are immutable (unchangeable) .\n",
    "    Brackets used to represent: ()\n",
    "    Only difference between tuples and lists are that lists can be changed.\n",
    "    Tuples are faster than lists as they are immutable.\n",
    "\n",
    "Sets\n",
    "\n",
    "    Collection of Unordered and Unindexed items.\n",
    "    Sets are mutable (changeable).\n",
    "    Does not take duplicate Values.\n",
    "    Sets are unordered, so you cannot be sure in which order the items will appear.\n",
    "    Brackets used to represent: { }.\n",
    "    Sets are not faster than lists however they have a upper hand when it comes to membership testing.\n",
    "\n",
    "Dictionaries\n",
    "\n",
    "    Key:Value Pair in Python\n",
    "    A dictionary is a collection which is ordered, changeable and indexed.\n",
    "    In Python dictionaries are written with curly brackets, and they have keys and values.\n",
    "    Brackets used to represent: {}."
   ]
  },
  {
   "cell_type": "code",
   "execution_count": 12,
   "metadata": {},
   "outputs": [
    {
     "name": "stdout",
     "output_type": "stream",
     "text": [
      "1\n",
      "2\n",
      "3\n",
      "4\n",
      "5\n",
      "6\n",
      "7\n",
      "8\n",
      "9\n",
      "10\n"
     ]
    }
   ],
   "source": [
    "#13. Print first 10 natural numbers using while loop\n",
    "i=1\n",
    "while(i<=10):\n",
    "    print(i)\n",
    "    i+=1\n",
    "    "
   ]
  },
  {
   "cell_type": "code",
   "execution_count": 13,
   "metadata": {},
   "outputs": [
    {
     "name": "stdout",
     "output_type": "stream",
     "text": [
      "-10\n",
      "-9\n",
      "-8\n",
      "-7\n",
      "-6\n",
      "-5\n",
      "-4\n",
      "-3\n",
      "-2\n",
      "-1\n"
     ]
    }
   ],
   "source": [
    "#14. Print the numbers -10 to -1 using for loop.\n",
    "for x in range(-10,0,1):\n",
    "    print(x)\n"
   ]
  },
  {
   "cell_type": "code",
   "execution_count": 14,
   "metadata": {},
   "outputs": [
    {
     "name": "stdout",
     "output_type": "stream",
     "text": [
      "-10\n",
      "-9\n",
      "-8\n",
      "-7\n",
      "-6\n",
      "-5\n",
      "-4\n",
      "-3\n",
      "-2\n",
      "-1\n",
      "Done\n"
     ]
    }
   ],
   "source": [
    "# 15. Print the message “Done” after successful execution of any for a loop\n",
    "for x in range(-10,0,1):\n",
    "    print(x)\n",
    "print(\"Done\")"
   ]
  },
  {
   "cell_type": "code",
   "execution_count": 15,
   "metadata": {},
   "outputs": [
    {
     "name": "stdout",
     "output_type": "stream",
     "text": [
      "[0.00751236 0.03270424 0.06908654 0.07643772 0.16407246 0.16773663\n",
      " 0.3283402  0.55786405 0.6001629  0.62823783]\n"
     ]
    }
   ],
   "source": [
    "# 16.Create a random vector of size 10 and sort it\n",
    "rand= np.random.random(10)\n",
    "rand.sort()\n",
    "print(rand)"
   ]
  },
  {
   "cell_type": "code",
   "execution_count": 16,
   "metadata": {},
   "outputs": [
    {
     "name": "stdout",
     "output_type": "stream",
     "text": [
      "Sum:  12\n",
      "sine : [ 0.84147098  0.90929743 -0.7568025 ]\n",
      "log:  [2.30258509 0.69314718]\n"
     ]
    }
   ],
   "source": [
    "# 17.Execute any three math functions using NumPy.\n",
    "#Sum\n",
    "x,y=10,2\n",
    "a=[1,2,4]\n",
    "val= np.sum([x,y])\n",
    "print('Sum: ',val)\n",
    "#Sine\n",
    "print(\"sine :\", np.sin(a))\n",
    "#Log\n",
    "valL= np.log([x,y])\n",
    "print('log: ',valL)"
   ]
  },
  {
   "cell_type": "code",
   "execution_count": null,
   "metadata": {},
   "outputs": [],
   "source": []
  }
 ],
 "metadata": {
  "kernelspec": {
   "display_name": "Python 3",
   "language": "python",
   "name": "python3"
  },
  "language_info": {
   "codemirror_mode": {
    "name": "ipython",
    "version": 3
   },
   "file_extension": ".py",
   "mimetype": "text/x-python",
   "name": "python",
   "nbconvert_exporter": "python",
   "pygments_lexer": "ipython3",
   "version": "3.8.5"
  }
 },
 "nbformat": 4,
 "nbformat_minor": 4
}
