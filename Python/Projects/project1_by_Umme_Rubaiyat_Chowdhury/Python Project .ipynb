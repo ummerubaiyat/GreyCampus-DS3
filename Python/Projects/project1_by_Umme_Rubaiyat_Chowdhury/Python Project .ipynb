{
 "cells": [
  {
   "cell_type": "markdown",
   "metadata": {},
   "source": [
    "Create a program in Python, to check if a given number is prime."
   ]
  },
  {
   "cell_type": "code",
   "execution_count": 2,
   "metadata": {},
   "outputs": [
    {
     "name": "stdout",
     "output_type": "stream",
     "text": [
      "Enter Your Number: 13\n",
      "13 is a prime number\n"
     ]
    }
   ],
   "source": [
    "# taking input from user\n",
    "number= int(input(\"Enter Your Number: \"))\n",
    "\n",
    "# prime number is always greater than 1\n",
    "if number > 1:\n",
    "    for i in range(2, number):\n",
    "        if (number % i) == 0:\n",
    "            print(number, \"is not a prime number\")\n",
    "            break\n",
    "    else:\n",
    "        print(number, \"is a prime number\")\n",
    "            \n",
    "# if the entered number is less than or equal to 1\n",
    "# then it is not prime number            \n",
    "else:\n",
    "       print(number,\"is not a prime number\") "
   ]
  },
  {
   "cell_type": "code",
   "execution_count": null,
   "metadata": {},
   "outputs": [],
   "source": [
    "\n",
    " \n"
   ]
  },
  {
   "cell_type": "code",
   "execution_count": null,
   "metadata": {},
   "outputs": [],
   "source": [
    " "
   ]
  },
  {
   "cell_type": "code",
   "execution_count": null,
   "metadata": {},
   "outputs": [],
   "source": []
  }
 ],
 "metadata": {
  "kernelspec": {
   "display_name": "Python 3",
   "language": "python",
   "name": "python3"
  },
  "language_info": {
   "codemirror_mode": {
    "name": "ipython",
    "version": 3
   },
   "file_extension": ".py",
   "mimetype": "text/x-python",
   "name": "python",
   "nbconvert_exporter": "python",
   "pygments_lexer": "ipython3",
   "version": "3.8.5"
  }
 },
 "nbformat": 4,
 "nbformat_minor": 4
}
